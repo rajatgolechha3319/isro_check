{
 "cells": [
  {
   "cell_type": "code",
   "execution_count": null,
   "metadata": {
    "vscode": {
     "languageId": "plaintext"
    }
   },
   "outputs": [],
   "source": [
    "import os\n",
    "from astropy.io import fits\n",
    "import pandas as pd"
   ]
  },
  {
   "cell_type": "code",
   "execution_count": null,
   "metadata": {
    "vscode": {
     "languageId": "plaintext"
    }
   },
   "outputs": [],
   "source": [
    "def check_solar_angle(fits_file):\n",
    "    \"\"\" Check if the SOLARANG value in the FITS header is less than 90 \"\"\"\n",
    "    with fits.open(fits_file) as hdul:\n",
    "        solar_ang = hdul[1].header['SOLARANG']\n",
    "    return solar_ang < 90\n",
    "\n",
    "def check_rate_in_interval(lc_file, start_time, end_time):\n",
    "    \"\"\" Check if the rate within the specified interval is above 2000 \"\"\"\n",
    "    data = pd.read_csv(lc_file, delimiter='\\t')  # Update this if the delimiter is different\n",
    "    filtered_data = data[(data['TIME'] >= start_time) & (data['TIME'] <= end_time)]\n",
    "    return filtered_data['RATE'].max() > 2000\n",
    "\n"
   ]
  },
  {
   "cell_type": "code",
   "execution_count": null,
   "metadata": {
    "vscode": {
     "languageId": "plaintext"
    }
   },
   "outputs": [],
   "source": [
    "def process_data(year, month, date, start_time, end_time, base_path='/home/baadalvm/MIDTERM_CODE/data/'):\n",
    "    \"\"\" Process the data for a given year, month, and date \"\"\"\n",
    "    cla_path = os.path.join(base_path, f'cla/data/calibrated/{year}/{month:02d}/{date:02d}')\n",
    "    xsm_path = os.path.join(base_path, f'xsm/data/{year}/{month:02d}/{date:02d}')\n",
    "\n",
    "    # List all FITS files in the CLA date directory\n",
    "    fits_files = [os.path.join(cla_path, f) for f in os.listdir(cla_path) if f.endswith('.fits')]\n",
    "\n",
    "    for fits_file in fits_files:\n",
    "        if check_solar_angle(fits_file):\n",
    "            Tstart = fits_file[]\n",
    "            with fits.open(fits_file) as hdul:\n",
    "                # Assume 'TIME' in FITS is in hours since start of the day\n",
    "                file_start_hours = hdul[1].header['TSTART']\n",
    "                file_end_hours = hdul[1].header['TSTOP']\n",
    "\n",
    "            lc_file = os.path.join(xsm_path, 'calibrated', 'xsm_lc_file.lc')  # Update the file name pattern if needed\n",
    "\n",
    "            if check_rate_in_interval(lc_file, start_time, end_time):\n",
    "                raw_folder_path = os.path.join(xsm_path, 'raw')\n",
    "                calibrated_folder_path = os.path.join(xsm_path, 'calibrated')\n",
    "\n",
    "                # Now run script.py with the required arguments\n",
    "                os.system(f\"/usr/bin/python3 pipeline2.py {fits_file} {raw_folder_path} {calibrated_folder_path}\")\n",
    "\n",
    "\n",
    "\n"
   ]
  },
  {
   "cell_type": "code",
   "execution_count": null,
   "metadata": {
    "vscode": {
     "languageId": "plaintext"
    }
   },
   "outputs": [],
   "source": [
    "process_data(2024,07,01,100210,100220)"
   ]
  }
 ],
 "metadata": {
  "language_info": {
   "name": "python"
  }
 },
 "nbformat": 4,
 "nbformat_minor": 2
}
