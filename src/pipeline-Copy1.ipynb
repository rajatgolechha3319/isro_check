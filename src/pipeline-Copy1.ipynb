{
 "cells": [
  {
   "cell_type": "markdown",
   "id": "82845390-f173-4e6f-9eff-2f303ff271d6",
   "metadata": {},
   "source": [
    "<h1>Imports"
   ]
  },
  {
   "cell_type": "code",
   "execution_count": 1,
   "id": "e2732ce7-65de-4966-bb9a-9eabd1366325",
   "metadata": {},
   "outputs": [],
   "source": [
    "from xspec import *\n",
    "\n",
    "from datetime import datetime\n",
    "import os\n",
    "import numpy as np\n",
    "from astropy.io import fits\n",
    "import corner\n",
    "import matplotlib.pyplot as plt\n",
    "from scipy.interpolate import interp1d\n",
    "\n",
    "# Importing necessary modules\n",
    "from matplotlib.backends.backend_pdf import PdfPages\n",
    "from matplotlib.backends.backend_pdf import PdfPages"
   ]
  },
  {
   "cell_type": "code",
   "execution_count": 2,
   "id": "5b5b3798-d920-45ca-8235-b74d28cd93c7",
   "metadata": {},
   "outputs": [],
   "source": [
    "data_dir = '/home/baadalvm/zaki/pipeline/notebooks/'\n",
    "data_dir = '/home/baadalvm/zaki/pipeline/class_data/pradan.issdc.gov.in/ch2/protected/downloadData/POST_OD/isda_archive/ch2_bundle/cho_bundle/nop/cla_collection/cla/data/calibrated/2020/04/07'"
   ]
  },
  {
   "cell_type": "code",
   "execution_count": 3,
   "id": "d2c70856-c044-4f94-8379-d97b3d66791b",
   "metadata": {},
   "outputs": [],
   "source": [
    "fits_fnames = sorted(os.listdir(data_dir))"
   ]
  },
  {
   "cell_type": "code",
   "execution_count": 4,
   "id": "7c85c2c6-c6ee-4dab-974a-6d4fba711cb6",
   "metadata": {},
   "outputs": [
    {
     "data": {
      "text/plain": [
       "7172"
      ]
     },
     "execution_count": 4,
     "metadata": {},
     "output_type": "execute_result"
    }
   ],
   "source": [
    "len(fits_fnames)"
   ]
  },
  {
   "cell_type": "code",
   "execution_count": null,
   "id": "5517ea0a-09c9-4a59-8b55-f167c6bc963a",
   "metadata": {},
   "outputs": [],
   "source": []
  },
  {
   "cell_type": "code",
   "execution_count": 5,
   "id": "0b8cc773-2c15-4f43-ab24-2b04cc716366",
   "metadata": {},
   "outputs": [],
   "source": [
    "fits_fnames = [ x for x in fits_fnames if x.endswith('.fits') ]"
   ]
  },
  {
   "cell_type": "code",
   "execution_count": 6,
   "id": "6d60d218-aba6-448c-9f05-18b82312a4f9",
   "metadata": {},
   "outputs": [],
   "source": [
    "# 'ch2_cla_l1_20200407T014655620_20200407T014703620.fits'"
   ]
  },
  {
   "cell_type": "code",
   "execution_count": 7,
   "id": "becc6a7b-94cc-4cbe-be4e-f692dbd3d4b1",
   "metadata": {},
   "outputs": [],
   "source": [
    "# fits_fnames"
   ]
  },
  {
   "cell_type": "code",
   "execution_count": 8,
   "id": "4ed64207-60d4-4e9a-b39e-c73d4afa96c8",
   "metadata": {},
   "outputs": [],
   "source": [
    "# file = f'/home/baadalvm/zaki/pipeline/notebooks/ch2_cla_l1_20200407T014655620_20200407T014703620.fits'\n",
    "file = 'ch2_cla_l1_20200407T014807620_20200407T014815620.fits'"
   ]
  },
  {
   "cell_type": "code",
   "execution_count": 9,
   "id": "b7c695d8-6517-41ae-8a36-c3e163a0128b",
   "metadata": {},
   "outputs": [
    {
     "data": {
      "text/plain": [
       "810"
      ]
     },
     "execution_count": 9,
     "metadata": {},
     "output_type": "execute_result"
    }
   ],
   "source": [
    "fits_fnames.index(file)"
   ]
  },
  {
   "cell_type": "code",
   "execution_count": 7,
   "id": "f82214ef-d46b-4247-a0da-f9b6cdb2460d",
   "metadata": {},
   "outputs": [],
   "source": [
    "data = fits.open(os.path.join(data_dir,file))"
   ]
  },
  {
   "cell_type": "code",
   "execution_count": 8,
   "id": "db7d7e0b-1e63-4d3b-9f64-2cf1969939c0",
   "metadata": {},
   "outputs": [
    {
     "name": "stdout",
     "output_type": "stream",
     "text": [
      "Filename: /home/baadalvm/zaki/pipeline/class_data/pradan.issdc.gov.in/ch2/protected/downloadData/POST_OD/isda_archive/ch2_bundle/cho_bundle/nop/cla_collection/cla/data/calibrated/2020/04/07/ch2_cla_l1_20200407T014807620_20200407T014815620.fits\n",
      "No.    Name      Ver    Type      Cards   Dimensions   Format\n",
      "  0  PRIMARY       1 PrimaryHDU       5   ()      \n",
      "  1  SPECTRUM      1 BinTableHDU     73   2048R x 2C   [1I, 1E]   \n"
     ]
    }
   ],
   "source": [
    "data.info()"
   ]
  },
  {
   "cell_type": "code",
   "execution_count": 18,
   "id": "0a17de4d-3bbe-41b5-bfcc-7046311131bf",
   "metadata": {},
   "outputs": [],
   "source": [
    "data_2 = fits.open(os.path.join(data_dir,fits_fnames[811]))"
   ]
  },
  {
   "cell_type": "code",
   "execution_count": 42,
   "id": "c8b3c83a-5e06-4319-b543-6ae7248c2569",
   "metadata": {},
   "outputs": [],
   "source": [
    "d1 = fits.open(os.path.join(data_dir,fits_fnames[810]))\n",
    "d2 = fits.open(os.path.join(data_dir,fits_fnames[811]))"
   ]
  },
  {
   "cell_type": "code",
   "execution_count": 43,
   "id": "0cd51aea-ba96-4d77-b257-4ff2219b9606",
   "metadata": {},
   "outputs": [],
   "source": [
    "data1 = d1[0].data\n",
    "header1 = d1[0].header\n",
    "\n",
    "data2 = d2[0].data\n",
    "header2 = d2[0].header\n",
    "\n",
    "# Option 1: Concatenate the data along a specific axis if it's an image or array\n",
    "# For example, concatenating along rows (axis=0) or columns (axis=1) for 2D arrays.\n",
    "# merged_data = np.mean((data1, data2), axis=0)  # Or axis=1 depending on your needs\n",
    "\n",
    "# Option 2: Alternatively, you might want to combine the headers or just append the second HDU\n",
    "\n",
    "# Create a new HDU list with merged data\n",
    "# merged_hdu = fits.PrimaryHDU(merged_data, header=header1)"
   ]
  },
  {
   "cell_type": "code",
   "execution_count": 44,
   "id": "c859b5a8-789e-47b9-b9f4-e710478dad1d",
   "metadata": {},
   "outputs": [],
   "source": [
    "data1 = d1[1].data\n",
    "header1 = d1[1].header\n",
    "\n",
    "data2 = d2[1].data\n",
    "header2 = d2[1].header"
   ]
  },
  {
   "cell_type": "code",
   "execution_count": 45,
   "id": "82adc1c1-8245-46c9-b3d5-cb25a64b1b8c",
   "metadata": {},
   "outputs": [],
   "source": [
    "header1['EXPOSURE'] = 16\n",
    "header1['ENDTIME'] = header2['ENDTIME']\n",
    "header1['MID_UTC'] = header2['STARTIME']\n",
    "header1['V2_LAT'] = header2['V2_LAT']\n",
    "header1['V2_LON'] = header2['V2_LON']\n",
    "header1['V3_LAT'] = header2['V3_LAT']\n",
    "header1['V3_LON'] = header2['V3_LON']\n",
    "\n",
    "for coords in ['SOLARANG','PHASEANG','EMISNANG']:\n",
    "    header1[f'{coords}'] = 0.5*(header1[f'{coords}']+ header2[f'{coords}'])"
   ]
  },
  {
   "cell_type": "code",
   "execution_count": 46,
   "id": "dafeacb9-93ff-4ed9-9a0e-fba0be4241dc",
   "metadata": {},
   "outputs": [
    {
     "name": "stdout",
     "output_type": "stream",
     "text": [
      "83.8963 74.1718\n",
      "83.5095 75.1737\n",
      "----------\n",
      "82.683 78.5801\n",
      "82.2879 79.2033\n",
      "----------\n",
      "82.6161 85.7797\n",
      "82.6161 85.7797\n",
      "----------\n",
      "83.889 82.8391\n",
      "83.889 82.8391\n",
      "----------\n",
      "88.88104999999999 88.8372\n",
      "----------\n",
      "88.88104999999999 88.8372\n",
      "----------\n",
      "3.032308e-09 4.65175e-09\n",
      "----------\n"
     ]
    }
   ],
   "source": [
    "for coords in ['V0','V1','V2','V3']:\n",
    "    print(header1[f'{coords}_LAT'], header1[f'{coords}_LON'])\n",
    "    print(header2[f'{coords}_LAT'], header2[f'{coords}_LON'])\n",
    "    print(10*'-')\n",
    "\n",
    "for coords in ['SOLARANG','PHASEANG','EMISNANG']:\n",
    "    print(header1[f'{coords}'], header2[f'{coords}'])\n",
    "    print(10*'-')"
   ]
  },
  {
   "cell_type": "code",
   "execution_count": 51,
   "id": "05c2b663-5cb5-4389-abfd-f8586ce03f92",
   "metadata": {},
   "outputs": [],
   "source": [
    "d1[1].data['COUNTS'] =  0.5*(data1['COUNTS'] + data2['COUNTS'])"
   ]
  },
  {
   "cell_type": "code",
   "execution_count": 39,
   "id": "7170ec91-10a9-4c36-bfa4-e5c0edafc0f1",
   "metadata": {},
   "outputs": [],
   "source": [
    "# d1 = data[1]\n",
    "d1 = data1"
   ]
  },
  {
   "cell_type": "code",
   "execution_count": 53,
   "id": "0bebcc84-1de6-4eda-8066-bc4a084b69af",
   "metadata": {},
   "outputs": [],
   "source": [
    "# startime = d1.header['STARTIME']\n",
    "# endtime = d1.header['ENDTIME']\n",
    "\n",
    "startime = header1['STARTIME']\n",
    "endtime = header1['ENDTIME']"
   ]
  },
  {
   "cell_type": "code",
   "execution_count": 54,
   "id": "294e7ae4-5ad3-4040-9c84-afb021cdaf97",
   "metadata": {},
   "outputs": [
    {
     "data": {
      "text/plain": [
       "'2020-04-07T01:48:07.620'"
      ]
     },
     "execution_count": 54,
     "metadata": {},
     "output_type": "execute_result"
    }
   ],
   "source": [
    "startime"
   ]
  },
  {
   "cell_type": "code",
   "execution_count": 55,
   "id": "f0b0b598-a20b-485c-b06b-c28c4d0af561",
   "metadata": {},
   "outputs": [
    {
     "data": {
      "text/plain": [
       "'2020-04-07T01:48:23.620'"
      ]
     },
     "execution_count": 55,
     "metadata": {},
     "output_type": "execute_result"
    }
   ],
   "source": [
    "endtime"
   ]
  },
  {
   "cell_type": "code",
   "execution_count": 56,
   "id": "0498cef3-8308-454a-94b2-ba09428e6555",
   "metadata": {},
   "outputs": [
    {
     "name": "stdout",
     "output_type": "stream",
     "text": [
      "-------------------------------------------------------------------------\n",
      "  XSMDAS: Data Analysis Software for Chandrayaan-II Solar X-ray Monitor  \n",
      "                     XSMDAS Version: 1.2              \n",
      "                     Module : XSMGENSPEC                        \n",
      "-------------------------------------------------------------------------\n",
      "------------------------------------------------------------------------\n",
      "MESSAGE: Ebounds CALDB file used is: /home/baadalvm/ch2_xsmdas_20210628_v1.2/xsmdas/caldb/CH2xsmebounds20191214v01.fits\n",
      "MESSAGE: Gain CALDB file used is: /home/baadalvm/ch2_xsmdas_20210628_v1.2/xsmdas/caldb/CH2xsmgain20200330v03.fits\n",
      "MESSAGE: Abscoef CALDB file used is: /home/baadalvm/ch2_xsmdas_20210628_v1.2/xsmdas/caldb/CH2xsmabscoef20200410v01.fits\n",
      "MESSAGE: Effareapar CALDB file used is: /home/baadalvm/ch2_xsmdas_20210628_v1.2/xsmdas/caldb/CH2xsmeffareapar20210423v02.fits\n",
      "MESSAGE: Syserror CALDB file used is: /home/baadalvm/ch2_xsmdas_20210628_v1.2/xsmdas/caldb/CH2xsmsyserr20200410v01.fits\n",
      "\n",
      "MESSAGE: XSMGENSPEC completed successully\n",
      "MESSAGE: Output file = ch2_xsm_20200407_1487_14823.pha\n",
      "MESSAGE: Output ARF = ch2_xsm_20200407_1487_14823.arf\n",
      "\n"
     ]
    }
   ],
   "source": [
    "tref = datetime(2017,1,1)\n",
    "\n",
    "tstart = (datetime.strptime(startime, '%Y-%m-%dT%H:%M:%S.%f') - tref).total_seconds() - 5\n",
    "tstop =(datetime.strptime(endtime, '%Y-%m-%dT%H:%M:%S.%f')-tref).total_seconds() + 5\n",
    " \n",
    "l1dir = '/home/baadalvm/xsm2020/2020/04/07/raw'\n",
    "l2dir = '/home/baadalvm/xsm2020/2020/04/07/calibrated'\n",
    "\n",
    "base = 'ch2_xsm_20200407_v1'\n",
    "\n",
    "l1file = l1dir+'/'+base+'_level1.fits'\n",
    "hkfile = l1dir+'/'+base+'_level1.hk'\n",
    "safile = l1dir+'/'+base+'_level1.sa'\n",
    "gtifile = l2dir+'/'+base+'_level2.gti'\n",
    "\n",
    "x1 = datetime.strptime(startime, '%Y-%m-%dT%H:%M:%S.%f')\n",
    "x2 = datetime.strptime(endtime, '%Y-%m-%dT%H:%M:%S.%f')\n",
    "\n",
    "specbase = f'ch2_xsm_20200407_{x1.hour}{x1.minute}{x1.second}_{x2.hour}{x2.minute}{x2.second}'\n",
    "\n",
    "specfile = specbase+'.pha'\n",
    "\n",
    "genspec_command=\"xsmgenspec l1file=\"+l1file+\" specfile=\"+specfile+\" spectype='time-integrated'\"+ \\\n",
    "\" tstart=\"+str(tstart)+\" tstop=\"+str(tstop)+\" hkfile=\"+hkfile+\" safile=\"+safile+\" gtifile=\"+gtifile\n",
    "\n",
    "s=os.system(genspec_command)"
   ]
  },
  {
   "cell_type": "markdown",
   "id": "70458746",
   "metadata": {},
   "source": []
  },
  {
   "cell_type": "code",
   "execution_count": 58,
   "id": "7d1eb121-e4a0-4c09-b155-97f46c2d46b2",
   "metadata": {},
   "outputs": [
    {
     "data": {
      "text/plain": [
       "'ch2_xsm_20200407_1487_14823.pha'"
      ]
     },
     "execution_count": 58,
     "metadata": {},
     "output_type": "execute_result"
    }
   ],
   "source": [
    "specfile"
   ]
  },
  {
   "cell_type": "code",
   "execution_count": 57,
   "id": "b569ca07-bc89-4c42-9e01-90237184de98",
   "metadata": {},
   "outputs": [],
   "source": [
    "# NOTE : CHANGE PATHS OF specfile AND ARF file"
   ]
  },
  {
   "cell_type": "code",
   "execution_count": 59,
   "id": "d4d4f38c-a438-45a6-a846-ff68b3e748e6",
   "metadata": {},
   "outputs": [
    {
     "name": "stderr",
     "output_type": "stream",
     "text": [
      "/tmp/ipykernel_1877720/3956828226.py:29: RuntimeWarning: invalid value encountered in divide\n",
      "  flux = spectrum_interp / exposure / effective_area / energy_errors\n"
     ]
    }
   ],
   "source": [
    "\n",
    "\n",
    "# Load the PHA file\n",
    "path = specfile\n",
    "pha_data = fits.open(path) #+'/ch2_xsm_20210827_flare.pha')\n",
    "spectrum = pha_data[1].data['COUNTS']\n",
    "\n",
    "# Load the ARF file\n",
    "arf_path = path.replace('.pha','.arf') \n",
    "arf_data = fits.open(arf_path) #+'/ch2_xsm_20210827_flare.arf')\n",
    "effective_area = arf_data[1].data['SPECRESP']\n",
    "\n",
    "# Load the RMF file\n",
    "rmf_data = fits.open('/home/baadalvm/xsmdas_software/xsmdas/caldb/CH2xsmresponse20200423v01.rmf')\n",
    "energy_lo = rmf_data[2].data['ENERG_LO']\n",
    "energy_hi = rmf_data[2].data['ENERG_HI']\n",
    "energy_bins = (energy_hi + energy_lo) / 2\n",
    "energy_errors = (energy_hi - energy_lo) / 2\n",
    "\n",
    "# energy_bins = (energy_lo + energy_lo) / 2\n",
    "# energy_errors = (energy_lo - energy_lo) / 2\n",
    "\n",
    "\n",
    "# Interpolate spectrum to match energy array size\n",
    "x_original = np.arange(len(spectrum))\n",
    "x_new = np.linspace(0, len(spectrum)-1, len(energy_bins))\n",
    "spectrum_interp = interp1d(x_original, spectrum, kind='linear')(x_new)\n",
    "\n",
    "# Convert count rate to flux\n",
    "exposure = pha_data[1].header['EXPOSURE']  # Exposure time in seconds\n",
    "flux = spectrum_interp / exposure / effective_area / energy_errors\n",
    "flux = np.nan_to_num(flux, nan=0.0)\n",
    "\n",
    "# Create an output text file\n",
    "with open('solar_spectrum.txt', 'w') as file:\n",
    "    # file.write('# Energy(keV)  Error(keV)  Flux(photons/(s*cm^2*keV))\\n')\n",
    "    for en, err, fl in zip(energy_bins, energy_errors, flux):\n",
    "        file.write(f\"{en:.4f}  {err:.4f}  {fl:.6e}\\n\")\n",
    "\n",
    "# Close all files\n",
    "pha_data.close()\n",
    "arf_data.close()\n",
    "rmf_data.close()"
   ]
  },
  {
   "cell_type": "code",
   "execution_count": 60,
   "id": "792e806d-c6e3-4a57-aab5-25db8b521dca",
   "metadata": {},
   "outputs": [
    {
     "data": {
      "text/plain": [
       "(0, 5)"
      ]
     },
     "execution_count": 60,
     "metadata": {},
     "output_type": "execute_result"
    },
    {
     "data": {
      "image/png": "[encoded data removed]",
      "text/plain": [
       "<Figure size 640x480 with 1 Axes>"
      ]
     },
     "metadata": {},
     "output_type": "display_data"
    }
   ],
   "source": [
    "plt.plot(energy_bins, flux)\n",
    "plt.xlim(0,5)"
   ]
  },
  {
   "cell_type": "code",
   "execution_count": 61,
   "id": "450526ce-21a4-461a-8819-87629580fc39",
   "metadata": {},
   "outputs": [],
   "source": [
    "# arf \n",
    "# rmf \n",
    "# modelop is solarflux.txt\n",
    "# # tbmodel "
   ]
  },
  {
   "cell_type": "code",
   "execution_count": 62,
   "id": "1e4dce45-7f2a-476c-b108-ae46d7d2484d",
   "metadata": {},
   "outputs": [
    {
     "name": "stdout",
     "output_type": "stream",
     "text": [
      "\n",
      "1 spectrum  in use\n",
      " \n",
      "Spectral Data File: ch2_xsm_20200407_1487_14823.pha  Spectrum 1\n",
      "Net count rate (cts/s) for Spectrum:1  8.908e+01 +/- 1.981e+00\n",
      " Assigned to Data Group 1 and Plot Group 1\n",
      "  Noticed Channels:  1-512\n",
      "  Telescope: CH-2_ORBITER Instrument: CH2_XSM  Channel Type: PI\n",
      "  Exposure Time: 26 sec\n",
      " Using fit statistic: chi\n",
      " Using Response (RMF) File            /home/baadalvm/ch2_xsmdas_20210628_v1.2/xsmdas/caldb/CH2xsmresponse20200423v01.rmf for Source 1\n",
      " Using Auxiliary Response (ARF) File  ch2_xsm_20200407_1487_14823.arf\n",
      "\n"
     ]
    }
   ],
   "source": [
    "\n",
    "spectrumfile = os.path.join(data_dir,fits_fnames[-1])\n",
    "\n",
    "spec_data = Spectrum(specfile)"
   ]
  },
  {
   "cell_type": "code",
   "execution_count": null,
   "id": "f989a978-59a2-45f5-a2e0-fa8af4d40a15",
   "metadata": {},
   "outputs": [],
   "source": []
  },
  {
   "cell_type": "code",
   "execution_count": null,
   "id": "8776a88b-1bc5-4277-bedb-894905a6cb94",
   "metadata": {},
   "outputs": [],
   "source": []
  },
  {
   "cell_type": "code",
   "execution_count": 21,
   "id": "48b4e773-ce36-4b58-933f-11e99a4b6b66",
   "metadata": {},
   "outputs": [
    {
     "name": "stdout",
     "output_type": "stream",
     "text": [
      "Logging to file: log_x2abund_test.txt\n",
      "    13 channels (1-13) ignored in spectrum #     1\n",
      "   400 channels (113-512) ignored in spectrum #     1\n",
      "\n",
      "\n",
      "========================================================================\n",
      "Model atable{tbmodel_20210827T210316000_20210827T210332000.fits}<1> + xrf_localmodel<2> Source No.: 1   Active/On\n",
      "Model Model Component  Parameter  Unit     Value\n",
      " par  comp\n",
      "   1    1   scatter_modeladdnorm             0.0          +/-  0.0          \n",
      "   2    1   scatter_modelnorm                1.00000      +/-  0.0          \n",
      "   3    2   xrf_localmodelWt_Fe               5.00000      +/-  0.0          \n",
      "   4    2   xrf_localmodelWt_Ti               1.00000      +/-  0.0          \n",
      "   5    2   xrf_localmodelWt_Ca               9.00000      +/-  0.0          \n",
      "   6    2   xrf_localmodelWt_Si               21.0000      +/-  0.0          \n",
      "   7    2   xrf_localmodelWt_Al               14.0000      +/-  0.0          \n",
      "   8    2   xrf_localmodelWt_Mg               5.00000      +/-  0.0          \n",
      "   9    2   xrf_localmodelWt_Na               0.500000     +/-  0.0          \n",
      "  10    2   xrf_localmodelWt_O                45.0000      +/-  0.0          \n",
      "  11    2   xrf_localmodelnorm                1.00000      +/-  0.0          \n",
      "________________________________________________________________________\n",
      "\n"
     ]
    },
    {
     "name": "stderr",
     "output_type": "stream",
     "text": [
      "/home/baadalvm/zaki/pipeline/notebooks/xrf_comp_new_V2.py:99: RuntimeWarning: divide by zero encountered in divide\n",
      "  L = 0.5*((((np.sin(i_angle * np.pi/180))/(musample_eincident))*np.log(1+(musample_eincident)/(np.sin(i_angle * np.pi/180)*musample_echarline))) + (((np.sin(e_angle * np.pi/180))/(musample_echarline_secondary))*np.log(1+(musample_echarline_secondary)/(np.sin(e_angle * np.pi/180)*musample_echarline))))\n",
      "/home/baadalvm/zaki/pipeline/notebooks/xrf_comp_new_V2.py:99: RuntimeWarning: invalid value encountered in multiply\n",
      "  L = 0.5*((((np.sin(i_angle * np.pi/180))/(musample_eincident))*np.log(1+(musample_eincident)/(np.sin(i_angle * np.pi/180)*musample_echarline))) + (((np.sin(e_angle * np.pi/180))/(musample_echarline_secondary))*np.log(1+(musample_echarline_secondary)/(np.sin(e_angle * np.pi/180)*musample_echarline))))\n"
     ]
    },
    {
     "name": "stdout",
     "output_type": "stream",
     "text": [
      "\n",
      "Fit statistic  : Chi-Squared                 1427.45     using 99 bins.\n",
      "\n",
      "***Warning: Chi-square may not be valid due to bins with zero variance\n",
      "            in spectrum number: 1\n",
      "\n",
      "Test statistic : Chi-Squared                 1427.45     using 99 bins.\n",
      "\n",
      "***Warning: Chi-square may not be valid due to bins with zero variance\n",
      "            in spectrum number(s): 1 \n",
      "\n",
      " Null hypothesis probability of 9.57e-241 with 88 degrees of freedom\n",
      " Current data and model not fit yet.\n",
      "\n",
      "Fit statistic  : Chi-Squared                 1427.45     using 99 bins.\n",
      "\n",
      "***Warning: Chi-square may not be valid due to bins with zero variance\n",
      "            in spectrum number: 1\n",
      "\n",
      "Test statistic : Chi-Squared                 1427.45     using 99 bins.\n",
      "\n",
      "***Warning: Chi-square may not be valid due to bins with zero variance\n",
      "            in spectrum number(s): 1 \n",
      "\n",
      " Null hypothesis probability of 9.57e-241 with 88 degrees of freedom\n",
      " Current data and model not fit yet.\n",
      "\n",
      "Fit statistic  : Chi-Squared                 1427.45     using 99 bins.\n",
      "\n",
      "***Warning: Chi-square may not be valid due to bins with zero variance\n",
      "            in spectrum number: 1\n",
      "\n",
      "Test statistic : Chi-Squared                 1427.45     using 99 bins.\n",
      "\n",
      "***Warning: Chi-square may not be valid due to bins with zero variance\n",
      "            in spectrum number(s): 1 \n",
      "\n",
      " Null hypothesis probability of 3.87e-240 with 89 degrees of freedom\n",
      " Current data and model not fit yet.\n",
      "\n",
      "Fit statistic  : Chi-Squared                 1427.45     using 99 bins.\n",
      "\n",
      "***Warning: Chi-square may not be valid due to bins with zero variance\n",
      "            in spectrum number: 1\n",
      "\n",
      "Test statistic : Chi-Squared                 1427.45     using 99 bins.\n",
      "\n",
      "***Warning: Chi-square may not be valid due to bins with zero variance\n",
      "            in spectrum number(s): 1 \n",
      "\n",
      " Null hypothesis probability of 1.55e-239 with 90 degrees of freedom\n",
      " Current data and model not fit yet.\n",
      "\n",
      "Fit statistic  : Chi-Squared                 1427.45     using 99 bins.\n",
      "\n",
      "***Warning: Chi-square may not be valid due to bins with zero variance\n",
      "            in spectrum number: 1\n",
      "\n",
      "Test statistic : Chi-Squared                 1427.45     using 99 bins.\n",
      "\n",
      "***Warning: Chi-square may not be valid due to bins with zero variance\n",
      "            in spectrum number(s): 1 \n",
      "\n",
      " Null hypothesis probability of 6.21e-239 with 91 degrees of freedom\n",
      " Current data and model not fit yet.\n",
      "                                   Parameters\n",
      "Chi-Squared  |beta|/N    Lvl        2:norm       3:Wt_Fe       4:Wt_Ti       5:Wt_Ca       7:Wt_Al       8:Wt_Mg       9:Wt_Na       11:norm\n",
      "894.483      1.91324      -3       23957.3       2.05750      0.489606       6.54530       17.6344       15.9509       3.23049       5399.23\n",
      "765.644      4.90065      -1       31952.7       1.26962     0.0312328       5.04205       9.68503       19.2728       4.53276       6544.45\n",
      "739.509      5.43259       0       32856.6       1.54069    0.00607104       5.01595       8.54750       19.7052       3.36879       6156.76\n",
      "726.982      3.40131       0       33584.1       1.53449    0.00107168       5.00649       7.85099       19.9531       2.51891       5915.18\n",
      "720.217      2.67506       0       34121.4       1.40147   0.000292694       5.00082       7.44121       19.9808       1.91810       5749.17\n",
      "==========================================================================================\n",
      " Variances and Principal Axes\n",
      "                 2        3        4        5        7        8        9       11  \n",
      " 5.1156E-01| -0.0001   0.0075  -0.0251  -0.9674  -0.1607  -0.0930  -0.1705  -0.0012  \n",
      " 1.0444E+00|  0.0000  -0.4495  -0.4076   0.2008  -0.6237  -0.2426  -0.3790   0.0019  \n",
      " 4.4860E+00| -0.0003   0.3568   0.2849   0.0307  -0.7629   0.2438   0.3861  -0.0029  \n",
      " 3.2988E+01| -0.0009   0.1636   0.2205   0.0722  -0.0217   0.6044  -0.7441   0.0013  \n",
      " 5.6193E+01|  0.0017  -0.5311  -0.2881  -0.1330   0.0412   0.7007   0.3529   0.0078  \n",
      " 2.3055E+03| -0.0084   0.6014  -0.7877   0.0068   0.0308   0.1296   0.0039  -0.0050  \n",
      " 4.9324E+06|  0.9993   0.0065  -0.0059   0.0003  -0.0001   0.0003  -0.0011   0.0350  \n",
      " 5.9754E+08| -0.0351   0.0085  -0.0002  -0.0004  -0.0014  -0.0045  -0.0001   0.9993  \n",
      "------------------------------------------------------------------------------------------\n",
      "\n",
      "================================================================================================\n",
      "  Covariance Matrix\n",
      "        1           2           3           4           5           6           7           8   \n",
      "   5.660e+06  -1.467e+05  -2.447e+04   1.062e+04   2.797e+04   9.668e+04  -2.911e+03  -2.076e+07\n",
      "  -1.467e+05   4.462e+04  -2.344e+03  -2.253e+03  -6.895e+03  -2.295e+04  -6.522e+02   5.100e+06\n",
      "  -2.447e+04  -2.344e+03   1.633e+03   3.883e+01   1.163e+02   3.180e+02   2.915e+01  -1.267e+05\n",
      "   1.062e+04  -2.253e+03   3.883e+01   1.210e+02   3.619e+02   1.207e+03   2.609e+01  -2.663e+05\n",
      "   2.797e+04  -6.895e+03   1.163e+02   3.619e+02   1.109e+03   3.690e+03   9.796e+01  -8.115e+05\n",
      "   9.668e+04  -2.295e+04   3.180e+02   1.207e+03   3.690e+03   1.236e+04   3.220e+02  -2.707e+06\n",
      "  -2.911e+03  -6.522e+02   2.915e+01   2.609e+01   9.796e+01   3.220e+02   4.057e+01  -7.141e+04\n",
      "  -2.076e+07   5.100e+06  -1.267e+05  -2.663e+05  -8.115e+05  -2.707e+06  -7.141e+04   5.968e+08\n",
      "------------------------------------------------------------------------------------------------\n",
      "\n",
      "========================================================================\n",
      "Model atable{tbmodel_20210827T210316000_20210827T210332000.fits}<1> + xrf_localmodel<2> Source No.: 1   Active/On\n",
      "Model Model Component  Parameter  Unit     Value\n",
      " par  comp\n",
      "   1    1   scatter_modeladdnorm             0.0          frozen\n",
      "   2    1   scatter_modelnorm                3.41214E+04  +/-  2379.16      \n",
      "   3    2   xrf_localmodelWt_Fe               1.40147      +/-  211.235      \n",
      "   4    2   xrf_localmodelWt_Ti               2.92694E-04  +/-  40.4114      \n",
      "   5    2   xrf_localmodelWt_Ca               5.00082      +/-  10.9983      \n",
      "   6    2   xrf_localmodelWt_Si               19.2573      = 100 - (p3 + p4 + p5 + p7 + p8 + p9 + p10)\n",
      "   7    2   xrf_localmodelWt_Al               7.44121      +/-  33.2983      \n",
      "   8    2   xrf_localmodelWt_Mg               19.9808      +/-  111.168      \n",
      "   9    2   xrf_localmodelWt_Na               1.91810      +/-  6.36975      \n",
      "  10    2   xrf_localmodelWt_O                45.0000      frozen\n",
      "  11    2   xrf_localmodelnorm                5749.17      +/-  2.44286E+04  \n",
      "________________________________________________________________________\n",
      "\n",
      "\n",
      "Response Parameters:\n",
      "\n",
      "========================================================================\n",
      "Source No.: 1\n",
      "Rpar Spectrum Rmodel   Rpar_name  Unit   Value\n",
      "\n",
      "   1     1    gain     slope             1.00430      frozen\n",
      "   2     1    gain     offset            3.16000E-02  frozen\n",
      "________________________________________________________________________\n",
      "\n",
      "\n",
      "Fit statistic  : Chi-Squared                  720.22     using 99 bins.\n",
      "\n",
      "***Warning: Chi-square may not be valid due to bins with zero variance\n",
      "            in spectrum number: 1\n",
      "\n",
      "Test statistic : Chi-Squared                  720.22     using 99 bins.\n",
      "\n",
      "***Warning: Chi-square may not be valid due to bins with zero variance\n",
      "            in spectrum number(s): 1 \n",
      "\n",
      " Null hypothesis probability of 1.50e-98 with 91 degrees of freedom\n",
      "CPU times: user 2min 23s, sys: 46.8 ms, total: 2min 23s\n",
      "Wall time: 2min 23s\n"
     ]
    }
   ],
   "source": [
    "%%time\n",
    "# Specifying the input files\n",
    "\n",
    "\n",
    "class_l1_data = '/home/baadalvm/zaki/pipeline/notebooks/ch2_cla_l1_20200407T014655620_20200407T014703620.fits'\n",
    "\n",
    "\n",
    "bkg_file = 'background_allevents.fits'\n",
    "\n",
    "scatter_atable = 'tbmodel_20210827T210316000_20210827T210332000.fits'\n",
    "# solar_model_file = 'modelop_20210827T210316000_20210827T210332000.txt'\n",
    "solar_model_file = 'solar_spectrum.txt'\n",
    "\n",
    "response_path = './'\n",
    "\n",
    "static_par_file = 'static_par_localmodel.txt'\n",
    "xspec_log_file = 'log_x2abund_test.txt'\n",
    "xspec_xcm_file = 'xcm_x2abund_test.xcm'\n",
    "plot_file = 'plots_x2abund_test.pdf'\n",
    "\n",
    "ignore_erange = [\"0.9\",\"4.2\"]\n",
    "ignore_string = '0.0-' + ignore_erange[0] + ' ' + ignore_erange[1] + '-**'\n",
    "\n",
    "# Getting the information for making the static parameter file\n",
    "hdu_data = fits.open(class_l1_data)\n",
    "hdu_header = hdu_data[1].header\n",
    "hdu_data.close()\n",
    "\n",
    "solar_zenith_angle = hdu_header['SOLARANG']\n",
    "emiss_angle = hdu_header['EMISNANG']\n",
    "sat_alt = hdu_header['SAT_ALT']\n",
    "tint = hdu_header['EXPOSURE']\n",
    "\n",
    "fid_statpar = open(static_par_file,'w')\n",
    "fid_statpar.write(solar_model_file + '\\n')\n",
    "fid_statpar.write(str(solar_zenith_angle) + '\\n')\n",
    "fid_statpar.write(str(emiss_angle) + '\\n')\n",
    "fid_statpar.write(str(sat_alt) + '\\n')\n",
    "fid_statpar.write(str(tint) + '\\n')\n",
    "fid_statpar.close()\n",
    "\n",
    "# ADDING MODEL\n",
    "import numpy as np\n",
    "from xspec import *\n",
    "import xraylib\n",
    "from common_modules import *\n",
    "from get_xrf_lines_V1 import get_xrf_lines\n",
    "from get_constants_xrf_new_V2 import get_constants_xrf\n",
    "from xrf_comp_new_V2 import xrf_comp\n",
    "\n",
    "# Getting the static parameters for the local model\n",
    "static_parameter_file = 'static_par_localmodel.txt'#\"static_par_localmodel.txt\"\n",
    "fid = open(static_parameter_file,\"r\")\n",
    "finfo_full = fid.read()\n",
    "finfo_split = finfo_full.split('\\n')\n",
    "solar_file = finfo_split[0]\n",
    "solar_zenith_angle = float(finfo_split[1])\n",
    "emiss_angle = float(finfo_split[2])\n",
    "altitude = float(finfo_split[3])\n",
    "exposure = float(finfo_split[4])\n",
    "\n",
    "# Defining the model function\n",
    "def xrf_localmodel(energy, parameters, flux):\n",
    "    \n",
    "    # Defining proper energy axis\n",
    "    energy_mid = np.zeros(np.size(energy)-1)\n",
    "    for i in np.arange(np.size(energy)-1):\n",
    "        energy_mid[i] = 0.5*(energy[i+1] + energy[i])\n",
    "        \n",
    "    # Defining some input parameters required for x2abund xrf computation modules\n",
    "    at_no = np.array([26,22,20,14,13,12,11,8])\n",
    "    \n",
    "    weight = list(parameters)\n",
    "    \n",
    "    i_angle = 90.0 - solar_zenith_angle\n",
    "    e_angle = 90.0 - emiss_angle\n",
    "    (energy_solar,tmp1_solar,counts_solar) = readcol(solar_file,format='F,F,F')\n",
    "    \n",
    "    # Computing the XRF line intensities\n",
    "    k_lines = np.array([xraylib.KL1_LINE, xraylib.KL2_LINE, xraylib.KL3_LINE, xraylib.KM1_LINE, xraylib.KM2_LINE, xraylib.KM3_LINE, xraylib.KM4_LINE, xraylib.KM5_LINE])\n",
    "    l1_lines = np.array([xraylib.L1L2_LINE, xraylib.L1L3_LINE, xraylib.L1M1_LINE, xraylib.L1M2_LINE, xraylib.L1M3_LINE, xraylib.L1M4_LINE, xraylib.L1M5_LINE, xraylib.L1N1_LINE, xraylib.L1N2_LINE, xraylib.L1N3_LINE, xraylib.L1N4_LINE, xraylib.L1N5_LINE, xraylib.L1N6_LINE, xraylib.L1N7_LINE])\n",
    "    l2_lines = np.array([xraylib.L2L3_LINE, xraylib.L2M1_LINE, xraylib.L2M2_LINE, xraylib.L2M3_LINE, xraylib.L2M4_LINE, xraylib.L2M5_LINE, xraylib.L2N1_LINE, xraylib.L2N2_LINE, xraylib.L2N3_LINE, xraylib.L2N4_LINE, xraylib.L2N5_LINE, xraylib.L2N6_LINE, xraylib.L2N7_LINE])\n",
    "    l3_lines = [xraylib.L3M1_LINE, xraylib.L3M2_LINE, xraylib.L3M3_LINE, xraylib.L3M4_LINE, xraylib.L3M5_LINE, xraylib.L3N1_LINE,xraylib.L3N2_LINE, xraylib.L3N3_LINE, xraylib.L3N4_LINE, xraylib.L3N5_LINE, xraylib.L3N6_LINE, xraylib.L3N7_LINE]\n",
    "    xrf_lines = get_xrf_lines(at_no, xraylib.K_SHELL, k_lines, xraylib.L1_SHELL, l1_lines, xraylib.L2_SHELL, l2_lines, xraylib.L3_SHELL, l3_lines)\n",
    "    const_xrf = get_constants_xrf(energy_solar, at_no, weight, xrf_lines)\n",
    "    xrf_struc = xrf_comp(energy_solar,counts_solar,i_angle,e_angle,at_no,weight,xrf_lines,const_xrf)\n",
    "    \n",
    "    # Generating XRF spectrum\n",
    "    bin_size = energy[1] - energy[0]\n",
    "    ebin_left = energy_mid - 0.5*bin_size\n",
    "    ebin_right = energy_mid + 0.5*bin_size\n",
    "    \n",
    "    no_elements = (np.shape(xrf_lines.lineenergy))[0]\n",
    "    n_lines = (np.shape(xrf_lines.lineenergy))[1]\n",
    "    n_ebins = np.size(energy_mid)\n",
    "    \n",
    "    spectrum_xrf = dblarr(n_ebins)\n",
    "    for i in range(0, no_elements):\n",
    "        for j in range(0, n_lines):\n",
    "            line_energy = xrf_lines.lineenergy[i,j]\n",
    "            bin_index = np.where((ebin_left <= line_energy) & (ebin_right >= line_energy))\n",
    "            spectrum_xrf[bin_index] = spectrum_xrf[bin_index] + xrf_struc.total_xrf[i,j]\n",
    "            \n",
    "    # Defining the flux array required for XSPEC\n",
    "    scaling_factor = (12.5*1e4*12.5*(round(exposure/8.0)+1)*1e4)/(exposure*4*np.pi*(altitude*1e4)**2)\n",
    "    spectrum_xrf_scaled = scaling_factor*spectrum_xrf\n",
    "    for i in range(0, n_ebins):\n",
    "        flux[i] = spectrum_xrf_scaled[i]\n",
    "        \n",
    "# Specifying parameter information\n",
    "xrf_localmodel_ParInfo = (\"Wt_Fe \\\"\\\" 5 1 1 20 20 1e-2\",\"Wt_Ti \\\"\\\" 1 1e-6 1e-6 20 20 1e-2\",\"Wt_Ca \\\"\\\" 9 5 5 20 20 1e-2\",\"Wt_Si \\\"\\\" 21 15 15 35 35 1e-2\",\"Wt_Al \\\"\\\" 14 5 5 20 20 1e-2\",\"Wt_Mg \\\"\\\" 5 1e-6 1e-6 20 20 1e-2\",\"Wt_Na \\\"\\\" 0.5 1e-6 1e-6 5 5 1e-2\",\"Wt_O \\\"\\\" 45 30 30 60 60 1e-2\")\n",
    "\n",
    "# # Creating the local model in PyXspec\n",
    "# AllModels.addPyMod(xrf_localmodel, xrf_localmodel_ParInfo, 'add')\n",
    "\n",
    "# PyXspec Initialisation\n",
    "Xset.openLog(xspec_log_file)\n",
    "# AllData.clear()\n",
    "# AllModels.clear()\n",
    "\n",
    "# Creating the local model in PyXspec\n",
    "AllModels.addPyMod(xrf_localmodel, xrf_localmodel_ParInfo, 'add')\n",
    "\n",
    "os.chdir(response_path)\n",
    "# spec_data = Spectrum('ch2_cla_l1_20210827T210316000_20210827T210332000_1024.fits')\n",
    "# spec_data.background = bkg_file\n",
    "spec_data.ignore(ignore_string)\n",
    "\n",
    "# Defining model and fitting\n",
    "spec_data.response.gain.slope = '1.0043000'\n",
    "spec_data.response.gain.offset = '0.0316000'\n",
    "spec_data.response.gain.slope.frozen = True\n",
    "spec_data.response.gain.offset.frozen = True\n",
    "\n",
    "full_model = 'atable{' + scatter_atable + '} + xrf_localmodel'\n",
    "mo = Model(full_model)\n",
    "mo(10).values = \"45.0\"\n",
    "mo(10).frozen = True\n",
    "mo(1).frozen = True\n",
    "mo(6).link = '100 - (3+4+5+7+8+9+10)'\n",
    "\n",
    "Fit.nIterations = 5\n",
    "Fit.query = \"no\"\n",
    "Fit.perform()\n",
    "\n",
    "# Plotting the fit outputs\n",
    "pdf_plot = PdfPages(plot_file)\n",
    "\n",
    "data_energy_tmp = np.mean(spec_data.energies, axis=1)\n",
    "data_countspersec = spec_data.values\n",
    "# data_background = spec_data.background.values"
   ]
  },
  {
   "cell_type": "code",
   "execution_count": 22,
   "id": "4c7d8ea4-9fa9-4491-bfe1-c784475b2e0d",
   "metadata": {},
   "outputs": [
    {
     "name": "stdout",
     "output_type": "stream",
     "text": [
      "Log file closed.\n"
     ]
    }
   ],
   "source": [
    "# data_background = spec_data.background.values\n",
    "data_background = (0.25337078651685396, 0.2898876404494382, 0.28876404494382024, 0.28707865168539326, 0.25898876404494386, 0.28314606741573034, 0.25280898876404495, 0.25786516853932584, 0.2460674157303371, 0.2735955056179776, 0.2651685393258427, 0.2404494382022472, 0.2460674157303371, 0.25449438202247193, 0.2449438202247191, 0.2207865168539326, 0.23483146067415733, 0.23426966292134835, 0.24325842696629216, 0.2561797752808989, 0.2629213483146068, 0.2646067415730337, 0.23932584269662924, 0.22022471910112362, 0.23202247191011238, 0.22359550561797756, 0.20786516853932585, 0.200561797752809, 0.22640449438202248, 0.21235955056179778, 0.20280898876404496, 0.20674157303370788, 0.1955056179775281, 0.20393258426966293, 0.1702247191011236, 0.20955056179775283, 0.18764044943820227, 0.200561797752809, 0.17921348314606744, 0.18370786516853935, 0.17247191011235957, 0.19044943820224722, 0.18146067415730338, 0.18595505617977529, 0.17808988764044945, 0.17977528089887643, 0.1662921348314607, 0.1702247191011236, 0.1915730337078652, 0.16797752808988767, 0.16292134831460675, 0.1803370786516854, 0.1758426966292135, 0.16966292134831462, 0.1764044943820225, 0.17977528089887643, 0.1567415730337079, 0.15842696629213485, 0.15393258426966294, 0.15617977528089888, 0.16966292134831462, 0.16797752808988767, 0.16404494382022472, 0.16966292134831462, 0.1466292134831461, 0.16797752808988767, 0.16741573033707866, 0.15449438202247193, 0.1466292134831461, 0.1612359550561798, 0.1719101123595506, 0.17528089887640452, 0.15224719101123596, 0.14775280898876406, 0.15224719101123596, 0.151123595505618, 0.16235955056179777, 0.150561797752809, 0.1606741573033708, 0.15224719101123596, 0.1449438202247191, 0.150561797752809, 0.13651685393258428, 0.13932584269662923, 0.1314606741573034, 0.1359550561797753, 0.1550561797752809, 0.14887640449438203, 0.15730337078651688, 0.12191011235955057, 0.13707865168539327, 0.13764044943820225, 0.1449438202247191, 0.13202247191011238, 0.1202247191011236, 0.14325842696629215, 0.1252808988764045, 0.1297752808988764, 0.14831460674157304, 0.13707865168539327, 0.14382022471910114, 0.13876404494382025, 0.14325842696629215, 0.14438202247191012, 0.14101123595505619, 0.13764044943820225, 0.12808988764044946, 0.14382022471910114, 0.1314606741573034, 0.12640449438202248, 0.14157303370786517, 0.11797752808988765, 0.13707865168539327, 0.14325842696629215, 0.13932584269662923, 0.11910112359550563, 0.13876404494382025, 0.13876404494382025, 0.13370786516853933, 0.13707865168539327, 0.12191011235955057)\n",
    "try:\n",
    "    # Find the minimum size between the two arrays\n",
    "    min_size = min(len(data_countspersec), len(data_background))\n",
    "    \n",
    "    # Slice both arrays to match the minimum size\n",
    "    data_backrem = np.array(data_countspersec[:min_size]) - np.array(data_background[:min_size])\n",
    "except Exception as e:\n",
    "    print(\"An error occurred:\", e)\n",
    "    \n",
    "folded_flux = mo.folded(1)\n",
    "delchi = (data_backrem - folded_flux)/np.sqrt(folded_flux)\n",
    "\n",
    "fig, (axis1, axis2) = plt.subplots(2, 1, gridspec_kw={'width_ratios':[1], 'height_ratios':[3,1]})\n",
    "fig.suptitle('Data Model Comparison')\n",
    "\n",
    "axis1.plot(data_energy_tmp,data_backrem)\n",
    "axis1.plot(data_energy_tmp,folded_flux)\n",
    "axis1.set_yscale(\"log\")\n",
    "        \n",
    "axis1.set_xlabel('Energy (keV)')\n",
    "axis1.set_ylabel('Counts/s')\n",
    "axis1.set_xlim([float(ignore_erange[0]),float(ignore_erange[1])])\n",
    "axis1.legend(['Data','Model'])\n",
    "    \n",
    "axis2.plot(data_energy_tmp,delchi)\n",
    "axis2.set_xlabel('Energy (keV)')\n",
    "axis2.set_ylabel('Delchi')\n",
    "axis2.set_xlim([float(ignore_erange[0]),float(ignore_erange[1])])\n",
    "\n",
    "\n",
    "pdf_plot.savefig(fig,bbox_inches='tight',dpi=300)\n",
    "plt.close(fig)\n",
    "\n",
    "pdf_plot.close()\n",
    "\n",
    "# Closing PyXspec\n",
    "if os.path.exists(xspec_xcm_file):\n",
    "    os.remove(xspec_xcm_file)\n",
    "\n",
    "Xset.save(xspec_xcm_file)\n",
    "Xset.closeLog()"
   ]
  },
  {
   "cell_type": "code",
   "execution_count": 23,
   "id": "396ca11a-0d25-4507-a4e5-21ddd3e9ccb2",
   "metadata": {},
   "outputs": [
    {
     "data": {
      "image/png": "[encoded data removed]",
      "text/plain": [
       "<Figure size 640x480 with 2 Axes>"
      ]
     },
     "execution_count": 23,
     "metadata": {},
     "output_type": "execute_result"
    }
   ],
   "source": [
    "fig"
   ]
  },
  {
   "cell_type": "code",
   "execution_count": null,
   "id": "e41b624f-bd37-49fb-bcef-52310f22fce7",
   "metadata": {},
   "outputs": [],
   "source": []
  }
 ],
 "metadata": {
  "kernelspec": {
   "display_name": "Python 3 (ipykernel)",
   "language": "python",
   "name": "python3"
  },
  "language_info": {
   "codemirror_mode": {
    "name": "ipython",
    "version": 3
   },
   "file_extension": ".py",
   "mimetype": "text/x-python",
   "name": "python",
   "nbconvert_exporter": "python",
   "pygments_lexer": "ipython3",
   "version": "3.8.10"
  }
 },
 "nbformat": 4,
 "nbformat_minor": 5
}
